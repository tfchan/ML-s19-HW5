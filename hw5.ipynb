{
 "cells": [
  {
   "cell_type": "markdown",
   "metadata": {},
   "source": [
    "# Machine learning homework5\n",
    "## 1. Preparation\n",
    "### 1.1 Import required librarys"
   ]
  },
  {
   "cell_type": "code",
   "execution_count": null,
   "metadata": {},
   "outputs": [],
   "source": [
    "import numpy as np\n",
    "import matplotlib.pyplot as plt\n",
    "from libsvm.python import svm\n",
    "from libsvm.python import svmutil"
   ]
  },
  {
   "cell_type": "markdown",
   "metadata": {},
   "source": [
    "### 1.2 Read training and testing data"
   ]
  },
  {
   "cell_type": "code",
   "execution_count": null,
   "metadata": {},
   "outputs": [],
   "source": [
    "x_train = np.loadtxt('data/X_train.csv', delimiter=',')\n",
    "x_test = np.loadtxt('data/X_test.csv', delimiter=',')\n",
    "y_train = np.loadtxt('data/Y_train.csv', delimiter=',')\n",
    "y_test = np.loadtxt('data/Y_test.csv', delimiter=',')"
   ]
  },
  {
   "cell_type": "markdown",
   "metadata": {},
   "source": [
    "### 1.3 Construct problem with training data"
   ]
  },
  {
   "cell_type": "code",
   "execution_count": null,
   "metadata": {},
   "outputs": [],
   "source": [
    "problem = svmutil.svm_problem(y_train, x_train)"
   ]
  },
  {
   "cell_type": "markdown",
   "metadata": {},
   "source": [
    "## 2. Compare different kernels\n",
    "### 2.1 Train with linear kernel\n",
    "Use default parameters and quiet mode"
   ]
  },
  {
   "cell_type": "code",
   "execution_count": null,
   "metadata": {},
   "outputs": [],
   "source": [
    "linear_param = svmutil.svm_parameter('-t 0 -q')\n",
    "linear_model = svmutil.svm_train(problem, linear_param)"
   ]
  },
  {
   "cell_type": "markdown",
   "metadata": {},
   "source": [
    "### 2.2 Train with polynomial kernel\n",
    "Use default parameters and quiet mode"
   ]
  },
  {
   "cell_type": "code",
   "execution_count": null,
   "metadata": {},
   "outputs": [],
   "source": [
    "poly_param = svmutil.svm_parameter('-t 1 -q')\n",
    "poly_model = svmutil.svm_train(problem, poly_param)"
   ]
  },
  {
   "cell_type": "markdown",
   "metadata": {},
   "source": [
    "### 2.3 Train with RBF kernel\n",
    "Use default parameters and quiet mode"
   ]
  },
  {
   "cell_type": "code",
   "execution_count": null,
   "metadata": {},
   "outputs": [],
   "source": [
    "rbf_param = svmutil.svm_parameter('-t 2 -q')\n",
    "rbf_model = svmutil.svm_train(problem, rbf_param)"
   ]
  },
  {
   "cell_type": "markdown",
   "metadata": {},
   "source": [
    "### 2.4 Predict testing data with three trained model"
   ]
  },
  {
   "cell_type": "code",
   "execution_count": null,
   "metadata": {},
   "outputs": [],
   "source": [
    "linear_pred = svmutil.svm_predict(y_test, x_test, linear_model)\n",
    "poly_pred = svmutil.svm_predict(y_test, x_test, poly_model)\n",
    "rbf_pred = svmutil.svm_predict(y_test, x_test, rbf_model)"
   ]
  },
  {
   "cell_type": "markdown",
   "metadata": {},
   "source": [
    "### 2.5 Visualize each kernel's accuracy"
   ]
  },
  {
   "cell_type": "code",
   "execution_count": null,
   "metadata": {},
   "outputs": [],
   "source": [
    "names = ['Linear', 'Polynomial', 'RBF']\n",
    "acc = [linear_pred[1][0], poly_pred[1][0], rbf_pred[1][0]]\n",
    "plt.figure()\n",
    "plt.bar(names, acc, width=0.5)\n",
    "plt.title('Accuracy of different kernels with default parameters')\n",
    "plt.xlabel('Kernels')\n",
    "plt.ylabel('Accuracy')\n",
    "plt.show()"
   ]
  }
 ],
 "metadata": {
  "kernelspec": {
   "display_name": "Python 3",
   "language": "python",
   "name": "python3"
  },
  "language_info": {
   "codemirror_mode": {
    "name": "ipython",
    "version": 3
   },
   "file_extension": ".py",
   "mimetype": "text/x-python",
   "name": "python",
   "nbconvert_exporter": "python",
   "pygments_lexer": "ipython3",
   "version": "3.6.7"
  }
 },
 "nbformat": 4,
 "nbformat_minor": 2
}
