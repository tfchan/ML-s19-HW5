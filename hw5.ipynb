{
 "cells": [
  {
   "cell_type": "markdown",
   "metadata": {},
   "source": [
    "# Machine learning homework5\n",
    "## 0. Preparation\n",
    "### 0.1 Import required librarys"
   ]
  },
  {
   "cell_type": "code",
   "execution_count": null,
   "metadata": {},
   "outputs": [],
   "source": [
    "import numpy as np\n",
    "import matplotlib.pyplot as plt\n",
    "from libsvm.python import svm\n",
    "from libsvm.python import svmutil"
   ]
  },
  {
   "cell_type": "markdown",
   "metadata": {},
   "source": [
    "### 0.2 Read training and testing data"
   ]
  },
  {
   "cell_type": "code",
   "execution_count": null,
   "metadata": {},
   "outputs": [],
   "source": [
    "x_train = np.loadtxt('data/X_train.csv', delimiter=',')\n",
    "x_test = np.loadtxt('data/X_test.csv', delimiter=',')\n",
    "y_train = np.loadtxt('data/Y_train.csv', delimiter=',')\n",
    "y_test = np.loadtxt('data/Y_test.csv', delimiter=',')"
   ]
  },
  {
   "cell_type": "markdown",
   "metadata": {},
   "source": [
    "### 0.3 Construct problem with training data"
   ]
  },
  {
   "cell_type": "code",
   "execution_count": null,
   "metadata": {},
   "outputs": [],
   "source": [
    "problem = svmutil.svm_problem(y_train, x_train)"
   ]
  },
  {
   "cell_type": "markdown",
   "metadata": {},
   "source": [
    "## 1. Compare different kernels\n",
    "### 1.1 Train with linear kernel\n",
    "Use default parameters and quiet mode"
   ]
  },
  {
   "cell_type": "code",
   "execution_count": null,
   "metadata": {},
   "outputs": [],
   "source": [
    "linear_param = svmutil.svm_parameter('-t 0 -q')\n",
    "linear_model = svmutil.svm_train(problem, linear_param)"
   ]
  },
  {
   "cell_type": "markdown",
   "metadata": {},
   "source": [
    "### 1.2 Train with polynomial kernel\n",
    "Use default parameters and quiet mode"
   ]
  },
  {
   "cell_type": "code",
   "execution_count": null,
   "metadata": {},
   "outputs": [],
   "source": [
    "poly_param = svmutil.svm_parameter('-t 1 -q')\n",
    "poly_model = svmutil.svm_train(problem, poly_param)"
   ]
  },
  {
   "cell_type": "markdown",
   "metadata": {},
   "source": [
    "### 1.3 Train with RBF kernel\n",
    "Use default parameters and quiet mode"
   ]
  },
  {
   "cell_type": "code",
   "execution_count": null,
   "metadata": {},
   "outputs": [],
   "source": [
    "rbf_param = svmutil.svm_parameter('-t 2 -q')\n",
    "rbf_model = svmutil.svm_train(problem, rbf_param)"
   ]
  },
  {
   "cell_type": "markdown",
   "metadata": {},
   "source": [
    "### 1.4 Predict testing data with three trained model"
   ]
  },
  {
   "cell_type": "code",
   "execution_count": null,
   "metadata": {},
   "outputs": [],
   "source": [
    "linear_pred = svmutil.svm_predict(y_test, x_test, linear_model)\n",
    "poly_pred = svmutil.svm_predict(y_test, x_test, poly_model)\n",
    "rbf_pred = svmutil.svm_predict(y_test, x_test, rbf_model)"
   ]
  },
  {
   "cell_type": "markdown",
   "metadata": {},
   "source": [
    "### 1.5 Visualize each kernel's accuracy"
   ]
  },
  {
   "cell_type": "code",
   "execution_count": null,
   "metadata": {},
   "outputs": [],
   "source": [
    "names = ['Linear', 'Polynomial', 'RBF']\n",
    "acc = [linear_pred[1][0], poly_pred[1][0], rbf_pred[1][0]]\n",
    "plt.figure()\n",
    "plt.bar(names, acc, width=0.5)\n",
    "plt.title('Accuracy of different kernels with default parameters')\n",
    "plt.xlabel('Kernels')\n",
    "plt.ylabel('Accuracy')\n",
    "plt.show()"
   ]
  },
  {
   "cell_type": "markdown",
   "metadata": {},
   "source": [
    "## 2. Use C-SVC and tune with grid search\n",
    "### 2.1 Search best parameter for linear kernel\n",
    "Since linear kernel with C-SVC only have one parameter `C`, we search for that best C from 1e-5, 1e-4,..., 1e4 here"
   ]
  },
  {
   "cell_type": "code",
   "execution_count": null,
   "metadata": {},
   "outputs": [],
   "source": [
    "log_c_range = np.arange(-5, 5, dtype=float)\n",
    "c_range = 10 ** log_c_range\n",
    "acc = []\n",
    "for c in c_range:\n",
    "    param = svmutil.svm_parameter(f'-t 0 -c {c} -v 5 -q')\n",
    "    acc += [svmutil.svm_train(problem, param)]\n",
    "print(f'Best C is 10^{log_c_range[np.argmax(acc)]}')\n",
    "plt.figure()\n",
    "plt.plot(log_c_range, acc, 'r-')\n",
    "plt.title('Accuracy of different C')\n",
    "plt.xlabel('C (power of 10)')\n",
    "plt.ylabel('Accuracy')\n",
    "plt.show()"
   ]
  },
  {
   "cell_type": "markdown",
   "metadata": {},
   "source": [
    "## 2.2 Search best parameter for polynomial kernel\n",
    "Polynomial kernel has its own parameter `gamma`, `degree` and `coef0`, so in this situatuion, we will search for combination of four parameters:\n",
    "- C, power of 10, from 1e-5 to 1e0\n",
    "- gamma, power of 10, from 1e-3 to 1e1\n",
    "- degree, from 1 to 5\n",
    "- coef0, from 0 to 4\n",
    "\n",
    "First, we test for varying one parameter with other set to default value. Then we test for all combinations.\n",
    "### 2.2.1 Vary C, other use default"
   ]
  },
  {
   "cell_type": "code",
   "execution_count": null,
   "metadata": {},
   "outputs": [],
   "source": [
    "log_c_range = np.arange(-5, 0, dtype=float)\n",
    "c_range = 10 ** log_c_range\n",
    "acc = []\n",
    "for c in c_range:\n",
    "    param = svmutil.svm_parameter(f'-t 1 -c {c} -v 5 -q')\n",
    "    acc += [svmutil.svm_train(problem, param)]\n",
    "print(f'Best C is 10^{log_c_range[np.argmax(acc)]}')\n",
    "plt.figure()\n",
    "plt.plot(log_c_range, acc, 'r-')\n",
    "plt.title('Accuracy of different C')\n",
    "plt.xlabel('C (power of 10)')\n",
    "plt.ylabel('Accuracy')\n",
    "plt.show()"
   ]
  },
  {
   "cell_type": "markdown",
   "metadata": {},
   "source": [
    "### 2.2.2 Vary gamma, other use default"
   ]
  },
  {
   "cell_type": "code",
   "execution_count": null,
   "metadata": {},
   "outputs": [],
   "source": [
    "log_gamma_range = np.arange(-3, 2, dtype=float)\n",
    "gamma_range = 10 ** log_gamma_range\n",
    "acc = []\n",
    "for gamma in gamma_range:\n",
    "    param = svmutil.svm_parameter(f'-t 1 -g {gamma} -v 5 -q')\n",
    "    acc += [svmutil.svm_train(problem, param)]\n",
    "print(f'Best gamma is 10^{log_gamma_range[np.argmax(acc)]}')\n",
    "plt.figure()\n",
    "plt.plot(log_gamma_range, acc, 'r-')\n",
    "plt.title('Accuracy of different gamma')\n",
    "plt.xlabel('gamma (power of 10)')\n",
    "plt.ylabel('Accuracy')\n",
    "plt.show()"
   ]
  },
  {
   "cell_type": "markdown",
   "metadata": {},
   "source": [
    "### 2.2.3 Vary degree, other use default"
   ]
  },
  {
   "cell_type": "code",
   "execution_count": null,
   "metadata": {},
   "outputs": [],
   "source": [
    "degree_range = np.arange(1, 6, dtype=int)\n",
    "acc = []\n",
    "for degree in degree_range:\n",
    "    param = svmutil.svm_parameter(f'-t 1 -d {degree} -v 5 -q')\n",
    "    acc += [svmutil.svm_train(problem, param)]\n",
    "print(f'Best coef0 is {degree_range[np.argmax(acc)]}')\n",
    "plt.figure()\n",
    "plt.plot(degree_range, acc, 'r-')\n",
    "plt.title('Accuracy of different degree')\n",
    "plt.xlabel('degree')\n",
    "plt.ylabel('Accuracy')\n",
    "plt.show()"
   ]
  },
  {
   "cell_type": "markdown",
   "metadata": {},
   "source": [
    "### 2.2.4 Vary coef0, other use default"
   ]
  },
  {
   "cell_type": "code",
   "execution_count": null,
   "metadata": {},
   "outputs": [],
   "source": [
    "coef0_range = np.arange(0, 5, dtype=int)\n",
    "acc = []\n",
    "for coef0 in coef0_range:\n",
    "    param = svmutil.svm_parameter(f'-t 1 -r {coef0} -v 5 -q')\n",
    "    acc += [svmutil.svm_train(problem, param)]\n",
    "print(f'Best coef0 is {coef0_range[np.argmax(acc)]}')\n",
    "plt.figure()\n",
    "plt.plot(coef0_range, acc, 'r-')\n",
    "plt.title('Accuracy of different coef0')\n",
    "plt.xlabel('coef0')\n",
    "plt.ylabel('Accuracy')\n",
    "plt.show()"
   ]
  },
  {
   "cell_type": "markdown",
   "metadata": {},
   "source": [
    "### 2.2.5 All combinations"
   ]
  },
  {
   "cell_type": "code",
   "execution_count": null,
   "metadata": {},
   "outputs": [],
   "source": [
    "best_acc = 0\n",
    "best_param = {}\n",
    "for c in c_range:\n",
    "    for gamma in gamma_range:\n",
    "        for degree in degree_range:\n",
    "            for coef0 in coef0_range:\n",
    "                param = svmutil.svm_parameter(f'-t 1 -c {c} -g {gamma} -d {degree} -r {coef0} -v 5 -q')\n",
    "                acc = svmutil.svm_train(problem, param)\n",
    "                if acc > best_acc:\n",
    "                    best_acc = acc\n",
    "                    best_param['c'] = c\n",
    "                    best_param['gamma'] = gamma\n",
    "                    best_param['degree'] = degree\n",
    "                    best_param['coef0'] = coef0\n",
    "print(f'Parameter {best_param} achieve the best accuracy {best_acc}%')"
   ]
  },
  {
   "cell_type": "markdown",
   "metadata": {},
   "source": [
    "## 2.3 Search best parameter for RBF kernel\n",
    "RBF kernel has its own parameter `gamma`, so in this situatuion, we will search for combination of two parameters:\n",
    "- C, power of 10, from 1e-5 to 1e0\n",
    "- gamma, power of 10, from 1e-3 to 1e1\n",
    "\n",
    "First, we test for varying one parameter with other set to default value. Then we test for all combinations.\n",
    "### 2.3.1 Vary C, other use default"
   ]
  },
  {
   "cell_type": "code",
   "execution_count": null,
   "metadata": {},
   "outputs": [],
   "source": [
    "log_c_range = np.arange(-5, 0, dtype=float)\n",
    "c_range = 10 ** log_c_range\n",
    "acc = []\n",
    "for c in c_range:\n",
    "    param = svmutil.svm_parameter(f'-t 2 -c {c} -v 5 -q')\n",
    "    acc += [svmutil.svm_train(problem, param)]\n",
    "print(f'Best C is 10^{log_c_range[np.argmax(acc)]}')\n",
    "plt.figure()\n",
    "plt.plot(log_c_range, acc, 'r-')\n",
    "plt.title('Accuracy of different C')\n",
    "plt.xlabel('C (power of 10)')\n",
    "plt.ylabel('Accuracy')\n",
    "plt.show()"
   ]
  },
  {
   "cell_type": "markdown",
   "metadata": {},
   "source": [
    "### 2.3.2 Vary gamma, other use default"
   ]
  },
  {
   "cell_type": "code",
   "execution_count": null,
   "metadata": {},
   "outputs": [],
   "source": [
    "log_gamma_range = np.arange(-3, 2, dtype=float)\n",
    "gamma_range = 10 ** log_gamma_range\n",
    "acc = []\n",
    "for gamma in gamma_range:\n",
    "    param = svmutil.svm_parameter(f'-t 2 -g {gamma} -v 5 -q')\n",
    "    acc += [svmutil.svm_train(problem, param)]\n",
    "print(f'Best gamma is 10^{log_gamma_range[np.argmax(acc)]}')\n",
    "plt.figure()\n",
    "plt.plot(log_gamma_range, acc, 'r-')\n",
    "plt.title('Accuracy of different gamma')\n",
    "plt.xlabel('gamma (power of 10)')\n",
    "plt.ylabel('Accuracy')\n",
    "plt.show()"
   ]
  },
  {
   "cell_type": "markdown",
   "metadata": {},
   "source": [
    "### 2.3.3 All combinations"
   ]
  },
  {
   "cell_type": "code",
   "execution_count": null,
   "metadata": {},
   "outputs": [],
   "source": [
    "best_acc = 0\n",
    "best_param = {}\n",
    "for c in c_range:\n",
    "    for gamma in gamma_range:\n",
    "        param = svmutil.svm_parameter(f'-t 1 -c {c} -g {gamma} -v 5 -q')\n",
    "        acc = svmutil.svm_train(problem, param)\n",
    "        if acc > best_acc:\n",
    "            best_acc = acc\n",
    "            best_param['c'] = c\n",
    "            best_param['gamma'] = gamma\n",
    "print(f'Parameter {best_param} achieve the best accuracy {best_acc}%')"
   ]
  }
 ],
 "metadata": {
  "kernelspec": {
   "display_name": "Python 3",
   "language": "python",
   "name": "python3"
  },
  "language_info": {
   "codemirror_mode": {
    "name": "ipython",
    "version": 3
   },
   "file_extension": ".py",
   "mimetype": "text/x-python",
   "name": "python",
   "nbconvert_exporter": "python",
   "pygments_lexer": "ipython3",
   "version": "3.6.7"
  }
 },
 "nbformat": 4,
 "nbformat_minor": 2
}
